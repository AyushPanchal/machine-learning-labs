{
 "cells": [
  {
   "cell_type": "markdown",
   "id": "60ee1599",
   "metadata": {},
   "source": [
    "\n",
    "# Naive Bayes Classification: A Practical Application\n",
    "\n",
    "In this notebook, we'll apply the Naive Bayes algorithm to two distinct datasets: the classic Iris dataset and the SMS Spam Collection dataset. We'll preprocess the data, train our classifiers, and evaluate their performance.\n"
   ]
  },
  {
   "cell_type": "markdown",
   "id": "25d2738c",
   "metadata": {},
   "source": [
    "\n",
    "## Setup: Import Necessary Libraries and Load Data\n"
   ]
  },
  {
   "cell_type": "code",
   "execution_count": 1,
   "id": "8996f49d",
   "metadata": {},
   "outputs": [
    {
     "name": "stdout",
     "output_type": "stream",
     "text": [
      "Preview of Iris dataset:\n"
     ]
    },
    {
     "data": {
      "text/html": [
       "<div>\n",
       "<style scoped>\n",
       "    .dataframe tbody tr th:only-of-type {\n",
       "        vertical-align: middle;\n",
       "    }\n",
       "\n",
       "    .dataframe tbody tr th {\n",
       "        vertical-align: top;\n",
       "    }\n",
       "\n",
       "    .dataframe thead th {\n",
       "        text-align: right;\n",
       "    }\n",
       "</style>\n",
       "<table border=\"1\" class=\"dataframe\">\n",
       "  <thead>\n",
       "    <tr style=\"text-align: right;\">\n",
       "      <th></th>\n",
       "      <th>sepal length (cm)</th>\n",
       "      <th>sepal width (cm)</th>\n",
       "      <th>petal length (cm)</th>\n",
       "      <th>petal width (cm)</th>\n",
       "      <th>target</th>\n",
       "    </tr>\n",
       "  </thead>\n",
       "  <tbody>\n",
       "    <tr>\n",
       "      <th>0</th>\n",
       "      <td>5.1</td>\n",
       "      <td>3.5</td>\n",
       "      <td>1.4</td>\n",
       "      <td>0.2</td>\n",
       "      <td>0</td>\n",
       "    </tr>\n",
       "    <tr>\n",
       "      <th>1</th>\n",
       "      <td>4.9</td>\n",
       "      <td>3.0</td>\n",
       "      <td>1.4</td>\n",
       "      <td>0.2</td>\n",
       "      <td>0</td>\n",
       "    </tr>\n",
       "    <tr>\n",
       "      <th>2</th>\n",
       "      <td>4.7</td>\n",
       "      <td>3.2</td>\n",
       "      <td>1.3</td>\n",
       "      <td>0.2</td>\n",
       "      <td>0</td>\n",
       "    </tr>\n",
       "    <tr>\n",
       "      <th>3</th>\n",
       "      <td>4.6</td>\n",
       "      <td>3.1</td>\n",
       "      <td>1.5</td>\n",
       "      <td>0.2</td>\n",
       "      <td>0</td>\n",
       "    </tr>\n",
       "    <tr>\n",
       "      <th>4</th>\n",
       "      <td>5.0</td>\n",
       "      <td>3.6</td>\n",
       "      <td>1.4</td>\n",
       "      <td>0.2</td>\n",
       "      <td>0</td>\n",
       "    </tr>\n",
       "  </tbody>\n",
       "</table>\n",
       "</div>"
      ],
      "text/plain": [
       "   sepal length (cm)  sepal width (cm)  petal length (cm)  petal width (cm)  \\\n",
       "0                5.1               3.5                1.4               0.2   \n",
       "1                4.9               3.0                1.4               0.2   \n",
       "2                4.7               3.2                1.3               0.2   \n",
       "3                4.6               3.1                1.5               0.2   \n",
       "4                5.0               3.6                1.4               0.2   \n",
       "\n",
       "   target  \n",
       "0       0  \n",
       "1       0  \n",
       "2       0  \n",
       "3       0  \n",
       "4       0  "
      ]
     },
     "metadata": {},
     "output_type": "display_data"
    }
   ],
   "source": [
    "\n",
    "import pandas as pd\n",
    "from sklearn.datasets import load_iris\n",
    "from sklearn.model_selection import train_test_split\n",
    "from sklearn.preprocessing import StandardScaler\n",
    "\n",
    "# Load the Iris dataset\n",
    "iris = load_iris()\n",
    "X_iris, y_iris = iris.data, iris.target\n",
    "iris_df = pd.DataFrame(X_iris, columns=iris.feature_names)\n",
    "iris_df['target'] = y_iris\n",
    "\n",
    "# Display the first few entries\n",
    "print(\"Preview of Iris dataset:\")\n",
    "display(iris_df.head())\n",
    "\n",
    "# Splitting the dataset\n",
    "X_train_iris, X_test_iris, y_train_iris, y_test_iris = train_test_split(\n",
    "    X_iris, y_iris, test_size=0.3, random_state=42\n",
    ")\n",
    "    "
   ]
  },
  {
   "cell_type": "markdown",
   "id": "afbfe656",
   "metadata": {},
   "source": [
    "\n",
    "## Exploring the SMS Spam Collection Dataset\n",
    "\n",
    "We will download the dataset, perform preprocessing and feature extraction.\n"
   ]
  },
  {
   "cell_type": "code",
   "execution_count": 2,
   "id": "c9ee5883",
   "metadata": {},
   "outputs": [
    {
     "name": "stdout",
     "output_type": "stream",
     "text": [
      "Preview of SMS Spam dataset:\n"
     ]
    },
    {
     "data": {
      "text/html": [
       "<div>\n",
       "<style scoped>\n",
       "    .dataframe tbody tr th:only-of-type {\n",
       "        vertical-align: middle;\n",
       "    }\n",
       "\n",
       "    .dataframe tbody tr th {\n",
       "        vertical-align: top;\n",
       "    }\n",
       "\n",
       "    .dataframe thead th {\n",
       "        text-align: right;\n",
       "    }\n",
       "</style>\n",
       "<table border=\"1\" class=\"dataframe\">\n",
       "  <thead>\n",
       "    <tr style=\"text-align: right;\">\n",
       "      <th></th>\n",
       "      <th>label</th>\n",
       "      <th>message</th>\n",
       "    </tr>\n",
       "  </thead>\n",
       "  <tbody>\n",
       "    <tr>\n",
       "      <th>0</th>\n",
       "      <td>ham</td>\n",
       "      <td>Go until jurong point, crazy.. Available only ...</td>\n",
       "    </tr>\n",
       "    <tr>\n",
       "      <th>1</th>\n",
       "      <td>ham</td>\n",
       "      <td>Ok lar... Joking wif u oni...</td>\n",
       "    </tr>\n",
       "    <tr>\n",
       "      <th>2</th>\n",
       "      <td>spam</td>\n",
       "      <td>Free entry in 2 a wkly comp to win FA Cup fina...</td>\n",
       "    </tr>\n",
       "    <tr>\n",
       "      <th>3</th>\n",
       "      <td>ham</td>\n",
       "      <td>U dun say so early hor... U c already then say...</td>\n",
       "    </tr>\n",
       "    <tr>\n",
       "      <th>4</th>\n",
       "      <td>ham</td>\n",
       "      <td>Nah I don't think he goes to usf, he lives aro...</td>\n",
       "    </tr>\n",
       "  </tbody>\n",
       "</table>\n",
       "</div>"
      ],
      "text/plain": [
       "  label                                            message\n",
       "0   ham  Go until jurong point, crazy.. Available only ...\n",
       "1   ham                      Ok lar... Joking wif u oni...\n",
       "2  spam  Free entry in 2 a wkly comp to win FA Cup fina...\n",
       "3   ham  U dun say so early hor... U c already then say...\n",
       "4   ham  Nah I don't think he goes to usf, he lives aro..."
      ]
     },
     "metadata": {},
     "output_type": "display_data"
    }
   ],
   "source": [
    "\n",
    "import requests\n",
    "from io import BytesIO\n",
    "import zipfile\n",
    "\n",
    "# Download and unzip the SMS Spam Collection\n",
    "url = 'https://archive.ics.uci.edu/ml/machine-learning-databases/00228/smsspamcollection.zip'\n",
    "response = requests.get(url)\n",
    "with zipfile.ZipFile(BytesIO(response.content)) as z:\n",
    "    with z.open('SMSSpamCollection') as f:\n",
    "        sms_df = pd.read_csv(f, sep='\\t', names=['label', 'message'])\n",
    "\n",
    "# Map labels to binary values and vectorize messages\n",
    "print(\"Preview of SMS Spam dataset:\")\n",
    "display(sms_df.head())\n",
    "\n",
    "sms_df['label'] = sms_df['label'].map({'ham': 0, 'spam': 1})\n",
    "from sklearn.feature_extraction.text import TfidfVectorizer\n",
    "tfidf_vectorizer = TfidfVectorizer(stop_words='english')\n",
    "X_sms = tfidf_vectorizer.fit_transform(sms_df['message'])\n",
    "y_sms = sms_df['label']\n",
    "\n",
    "# Split the processed data\n",
    "X_train_sms, X_test_sms, y_train_sms, y_test_sms = train_test_split(\n",
    "    X_sms, y_sms, test_size=0.3, random_state=42\n",
    ")\n"
   ]
  },
  {
   "cell_type": "markdown",
   "id": "d27a9813",
   "metadata": {},
   "source": [
    "\n",
    "## Training Naive Bayes Classifiers\n",
    "\n",
    "We'll use Gaussian Naive Bayes for the Iris dataset and Multinomial Naive Bayes for the SMS Spam dataset.\n"
   ]
  },
  {
   "cell_type": "code",
   "execution_count": 3,
   "id": "8c7c0598",
   "metadata": {},
   "outputs": [],
   "source": [
    "\n",
    "from sklearn.naive_bayes import GaussianNB, MultinomialNB\n",
    "\n",
    "# Training on the Iris dataset\n",
    "gnb = GaussianNB()\n",
    "gnb.fit(X_train_iris, y_train_iris)\n",
    "iris_predictions = gnb.predict(X_test_iris)\n",
    "\n",
    "# Training on the SMS Spam dataset\n",
    "mnb = MultinomialNB()\n",
    "mnb.fit(X_train_sms, y_train_sms)\n",
    "sms_predictions = mnb.predict(X_test_sms)\n"
   ]
  },
  {
   "cell_type": "markdown",
   "id": "10de896c",
   "metadata": {},
   "source": [
    "\n",
    "## Evaluating the Classifiers\n",
    "\n",
    "Let's see how our models perform on the test data.\n"
   ]
  },
  {
   "cell_type": "code",
   "execution_count": 4,
   "id": "95fc9808",
   "metadata": {},
   "outputs": [
    {
     "name": "stdout",
     "output_type": "stream",
     "text": [
      "Iris Dataset Classification Metrics:\n",
      "Accuracy: 0.9777777777777777\n",
      "Confusion Matrix:\n",
      "[[19  0  0]\n",
      " [ 0 12  1]\n",
      " [ 0  0 13]]\n",
      "Classification Report:\n",
      "              precision    recall  f1-score   support\n",
      "\n",
      "           0       1.00      1.00      1.00        19\n",
      "           1       1.00      0.92      0.96        13\n",
      "           2       0.93      1.00      0.96        13\n",
      "\n",
      "    accuracy                           0.98        45\n",
      "   macro avg       0.98      0.97      0.97        45\n",
      "weighted avg       0.98      0.98      0.98        45\n",
      "\n",
      "SMS Spam Dataset Classification Metrics:\n",
      "Accuracy: 0.972488038277512\n",
      "Confusion Matrix:\n",
      "[[1447    1]\n",
      " [  45  179]]\n",
      "Classification Report:\n",
      "              precision    recall  f1-score   support\n",
      "\n",
      "           0       0.97      1.00      0.98      1448\n",
      "           1       0.99      0.80      0.89       224\n",
      "\n",
      "    accuracy                           0.97      1672\n",
      "   macro avg       0.98      0.90      0.94      1672\n",
      "weighted avg       0.97      0.97      0.97      1672\n",
      "\n"
     ]
    }
   ],
   "source": [
    "\n",
    "from sklearn.metrics import accuracy_score, confusion_matrix, classification_report\n",
    "\n",
    "# Evaluation metrics for Iris\n",
    "iris_accuracy = accuracy_score(y_test_iris, iris_predictions)\n",
    "iris_conf_matrix = confusion_matrix(y_test_iris, iris_predictions)\n",
    "iris_classification_report = classification_report(y_test_iris, iris_predictions)\n",
    "\n",
    "print(\"Iris Dataset Classification Metrics:\")\n",
    "print(f\"Accuracy: {iris_accuracy}\")\n",
    "print(\"Confusion Matrix:\")\n",
    "print(iris_conf_matrix)\n",
    "print(\"Classification Report:\")\n",
    "print(iris_classification_report)\n",
    "\n",
    "# Evaluation metrics for SMS Spam\n",
    "sms_accuracy = accuracy_score(y_test_sms, sms_predictions)\n",
    "sms_conf_matrix = confusion_matrix(y_test_sms, sms_predictions)\n",
    "sms_classification_report = classification_report(y_test_sms, sms_predictions)\n",
    "\n",
    "print(\"SMS Spam Dataset Classification Metrics:\")\n",
    "print(f\"Accuracy: {sms_accuracy}\")\n",
    "print(\"Confusion Matrix:\")\n",
    "print(sms_conf_matrix)\n",
    "print(\"Classification Report:\")\n",
    "print(sms_classification_report)\n"
   ]
  },
  {
   "cell_type": "markdown",
   "id": "9e292f65",
   "metadata": {},
   "source": [
    "\n",
    "## Model Persistence\n",
    "\n",
    "We will save our trained models for later use.\n"
   ]
  },
  {
   "cell_type": "code",
   "execution_count": 5,
   "id": "399ca659",
   "metadata": {},
   "outputs": [],
   "source": [
    "\n",
    "import joblib\n",
    "\n",
    "joblib.dump(gnb, 'iris_model.pkl')\n",
    "joblib.dump(mnb, 'sms_model.pkl')\n",
    "\n",
    "# Load the models back into the session\n",
    "loaded_iris_model = joblib.load('iris_model.pkl')\n",
    "loaded_sms_model = joblib.load('sms_model.pkl')\n"
   ]
  },
  {
   "cell_type": "markdown",
   "id": "ee08d60a",
   "metadata": {},
   "source": [
    "\n",
    "## Visualizing the Results\n",
    "\n",
    "We'll visualize the confusion matrices to better understand our classifiers' performance.\n"
   ]
  },
  {
   "cell_type": "code",
   "execution_count": 7,
   "id": "9c1d9ba6",
   "metadata": {},
   "outputs": [
    {
     "data": {
      "image/png": "[encoded data removed]",
      "text/plain": [
       "<Figure size 600x400 with 2 Axes>"
      ]
     },
     "metadata": {},
     "output_type": "display_data"
    },
    {
     "data": {
      "image/png": "[encoded data removed]",
      "text/plain": [
       "<Figure size 600x400 with 2 Axes>"
      ]
     },
     "metadata": {},
     "output_type": "display_data"
    }
   ],
   "source": [
    "\n",
    "import matplotlib.pyplot as plt\n",
    "import seaborn as sns\n",
    "\n",
    "def plot_confusion_matrix(cm, title):\n",
    "    plt.figure(figsize=(6, 4))\n",
    "    sns.heatmap(cm, annot=True, fmt='d', cmap='Greys')\n",
    "    plt.title(f'Confusion Matrix for {title}')\n",
    "    plt.xlabel('Predicted Label')\n",
    "    plt.ylabel('True Label')\n",
    "    plt.show()\n",
    "\n",
    "plot_confusion_matrix(iris_conf_matrix, 'Iris Dataset')\n",
    "plot_confusion_matrix(sms_conf_matrix, 'SMS Spam Dataset')\n"
   ]
  },
  {
   "cell_type": "code",
   "execution_count": null,
   "id": "378e4564",
   "metadata": {},
   "outputs": [],
   "source": []
  }
 ],
 "metadata": {
  "kernelspec": {
   "display_name": "Python 3",
   "language": "python",
   "name": "python3"
  },
  "language_info": {
   "codemirror_mode": {
    "name": "ipython",
    "version": 3
   },
   "file_extension": ".py",
   "mimetype": "text/x-python",
   "name": "python",
   "nbconvert_exporter": "python",
   "pygments_lexer": "ipython3",
   "version": "3.12.2"
  }
 },
 "nbformat": 4,
 "nbformat_minor": 5
}
