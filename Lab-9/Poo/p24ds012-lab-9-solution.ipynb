{
 "cells": [
  {
   "cell_type": "code",
   "execution_count": 1,
   "metadata": {},
   "outputs": [
    {
     "name": "stdout",
     "output_type": "stream",
     "text": [
      "AND Perceptron Predictions:\n",
      "Input: [0 0] => 0\n",
      "Input: [0 1] => 0\n",
      "Input: [1 0] => 0\n",
      "Input: [1 1] => 1\n",
      "\n",
      "OR Perceptron Predictions:\n",
      "Input: [0 0] => 0\n",
      "Input: [0 1] => 1\n",
      "Input: [1 0] => 1\n",
      "Input: [1 1] => 1\n",
      "\n",
      "XOR Perceptron Attempt (Using same as OR):\n",
      "Input: [0 0] => 0\n",
      "Input: [0 1] => 1\n",
      "Input: [1 0] => 1\n",
      "Input: [1 1] => 1\n"
     ]
    }
   ],
   "source": [
    "import numpy as np\n",
    "\n",
    "class Perceptron:\n",
    "    def __init__(self, weights, bias):\n",
    "        self.weights = np.array(weights)\n",
    "        self.bias = bias\n",
    "    \n",
    "    def activation(self, x):\n",
    "        # Step function\n",
    "        return 1 if x >= 0 else 0\n",
    "    \n",
    "    def predict(self, inputs):\n",
    "        # Calculate the dot product of inputs and weights, add the bias\n",
    "        summation = np.dot(inputs, self.weights) + self.bias\n",
    "        # Pass the sum through the step activation function\n",
    "        return self.activation(summation)\n",
    "\n",
    "# Define training data for AND, OR, XOR\n",
    "inputs = np.array([[0, 0], [0, 1], [1, 0], [1, 1]])\n",
    "\n",
    "# Output labels for AND, OR, XOR\n",
    "and_outputs = np.array([0, 0, 0, 1])\n",
    "or_outputs = np.array([0, 1, 1, 1])\n",
    "xor_outputs = np.array([0, 1, 1, 0])\n",
    "\n",
    "# Create perceptrons for AND and OR with found weights and biases\n",
    "and_perceptron = Perceptron(weights=[1, 1], bias=-1.5)\n",
    "or_perceptron = Perceptron(weights=[1, 1], bias=-0.5)\n",
    "\n",
    "# Test the perceptrons\n",
    "print(\"AND Perceptron Predictions:\")\n",
    "for input in inputs:\n",
    "    print(f\"Input: {input} => {and_perceptron.predict(input)}\")\n",
    "\n",
    "print(\"\\nOR Perceptron Predictions:\")\n",
    "for input in inputs:\n",
    "    print(f\"Input: {input} => {or_perceptron.predict(input)}\")\n",
    "\n",
    "# Demonstrating limitation with XOR\n",
    "# A single-layer perceptron cannot solve this, but let's show the attempts\n",
    "print(\"\\nXOR Perceptron Attempt (Using same as OR):\")\n",
    "for input in inputs:\n",
    "    print(f\"Input: {input} => {or_perceptron.predict(input)}\")  # Incorrect for XOR\n"
   ]
  },
  {
   "cell_type": "code",
   "execution_count": null,
   "metadata": {},
   "outputs": [],
   "source": []
  }
 ],
 "metadata": {
  "kernelspec": {
   "display_name": "Python 3",
   "language": "python",
   "name": "python3"
  },
  "language_info": {
   "codemirror_mode": {
    "name": "ipython",
    "version": 3
   },
   "file_extension": ".py",
   "mimetype": "text/x-python",
   "name": "python",
   "nbconvert_exporter": "python",
   "pygments_lexer": "ipython3",
   "version": "3.12.2"
  }
 },
 "nbformat": 4,
 "nbformat_minor": 2
}
