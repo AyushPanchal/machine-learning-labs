{
 "cells": [
  {
   "cell_type": "code",
   "execution_count": 1,
   "metadata": {},
   "outputs": [],
   "source": [
    "import numpy as np"
   ]
  },
  {
   "cell_type": "code",
   "execution_count": 2,
   "metadata": {},
   "outputs": [],
   "source": [
    "def step_function(x):\n",
    "    return 1 if x >= 0 else 0"
   ]
  },
  {
   "cell_type": "code",
   "execution_count": null,
   "metadata": {},
   "outputs": [],
   "source": [
    "class Perceptron:\n",
    "    def __init__(self, learning_rate=0.1, epochs=10):\n",
    "        self.lr = learning_rate\n",
    "        self.epochs = epochs\n",
    "        self.weights = np.random.rand(3)  \n",
    "\n",
    "    def predict(self, inputs):\n",
    "        summation = np.dot(inputs, self.weights[1:]) + self.weights[0]  \n",
    "        return step_function(summation)\n",
    "\n",
    "    def train(self, training_inputs, labels):\n",
    "        for _ in range(self.epochs):\n",
    "            for inputs, label in zip(training_inputs, labels):\n",
    "                prediction = self.predict(inputs)\n",
    "                self.weights[1:] += self.lr * (label - prediction) * inputs\n",
    "                self.weights[0] += self.lr * (label - prediction)  "
   ]
  },
  {
   "cell_type": "code",
   "execution_count": 4,
   "metadata": {},
   "outputs": [],
   "source": [
    "inputs = np.array([[0, 0], [0, 1], [1, 0], [1, 1]])"
   ]
  },
  {
   "cell_type": "code",
   "execution_count": 5,
   "metadata": {},
   "outputs": [],
   "source": [
    "labels_and = np.array([0, 0, 0, 1])  # AND\n",
    "labels_or = np.array([0, 1, 1, 1])  # OR\n",
    "labels_xor = np.array([0, 1, 1, 0])  # XOR"
   ]
  },
  {
   "cell_type": "code",
   "execution_count": 6,
   "metadata": {},
   "outputs": [],
   "source": [
    "perceptron_and = Perceptron()\n",
    "perceptron_or = Perceptron()\n",
    "perceptron_xor = Perceptron()"
   ]
  },
  {
   "cell_type": "code",
   "execution_count": 7,
   "metadata": {},
   "outputs": [],
   "source": [
    "# Train perceptrons\n",
    "perceptron_and.train(inputs, labels_and)\n",
    "perceptron_or.train(inputs, labels_or)\n",
    "perceptron_xor.train(inputs, labels_xor)"
   ]
  },
  {
   "cell_type": "code",
   "execution_count": 8,
   "metadata": {},
   "outputs": [
    {
     "name": "stdout",
     "output_type": "stream",
     "text": [
      "AND Classification:\n",
      "Input: [0 0] Output: 0\n",
      "Input: [0 1] Output: 0\n",
      "Input: [1 0] Output: 0\n",
      "Input: [1 1] Output: 1\n"
     ]
    }
   ],
   "source": [
    "print(\"AND Classification:\")\n",
    "for input in inputs:\n",
    "    print(f\"Input: {input} Output: {perceptron_and.predict(input)}\")"
   ]
  },
  {
   "cell_type": "code",
   "execution_count": 9,
   "metadata": {},
   "outputs": [
    {
     "name": "stdout",
     "output_type": "stream",
     "text": [
      "OR Classification:\n",
      "Input: [0 0] Output: 0\n",
      "Input: [0 1] Output: 1\n",
      "Input: [1 0] Output: 1\n",
      "Input: [1 1] Output: 1\n"
     ]
    }
   ],
   "source": [
    "print(\"OR Classification:\")\n",
    "for input in inputs:\n",
    "    print(f\"Input: {input} Output: {perceptron_or.predict(input)}\")"
   ]
  },
  {
   "cell_type": "code",
   "execution_count": 10,
   "metadata": {},
   "outputs": [
    {
     "name": "stdout",
     "output_type": "stream",
     "text": [
      "XOR Classification (expected to fail):\n",
      "Input: [0 0] Output: 0\n",
      "Input: [0 1] Output: 0\n",
      "Input: [1 0] Output: 0\n",
      "Input: [1 1] Output: 0\n"
     ]
    }
   ],
   "source": [
    "print(\"XOR Classification (expected to fail):\")\n",
    "for input in inputs:\n",
    "    print(f\"Input: {input} Output: {perceptron_xor.predict(input)}\")\n"
   ]
  }
 ],
 "metadata": {
  "kernelspec": {
   "display_name": "Python 3",
   "language": "python",
   "name": "python3"
  },
  "language_info": {
   "codemirror_mode": {
    "name": "ipython",
    "version": 3
   },
   "file_extension": ".py",
   "mimetype": "text/x-python",
   "name": "python",
   "nbconvert_exporter": "python",
   "pygments_lexer": "ipython3",
   "version": "3.12.2"
  }
 },
 "nbformat": 4,
 "nbformat_minor": 2
}
